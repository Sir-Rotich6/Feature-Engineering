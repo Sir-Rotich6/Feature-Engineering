{
  "metadata": {
    "kernelspec": {
      "name": "python",
      "display_name": "Python (Pyodide)",
      "language": "python"
    },
    "language_info": {
      "codemirror_mode": {
        "name": "python",
        "version": 3
      },
      "file_extension": ".py",
      "mimetype": "text/x-python",
      "name": "python",
      "nbconvert_exporter": "python",
      "pygments_lexer": "ipython3",
      "version": "3.8"
    },
    "interpreter": {
      "hash": "152bf6e7dc8ee53edb5af21dc1a8faeab7f134840808a94079ed98d91ece7e0c"
    },
    "widgets": {
      "application/vnd.jupyter.widget-state+json": {
        "version_major": 2,
        "version_minor": 0,
        "state": {}
      }
    }
  },
  "nbformat_minor": 4,
  "nbformat": 4,
  "cells": [
    {
      "cell_type": "markdown",
      "source": "# Feature Engineering\n\n---\n\n1. Import packages\n2. Load data\n3. Feature engineering\n\n---\n\n## 1. Import packages",
      "metadata": {}
    },
    {
      "cell_type": "code",
      "source": "import pandas as pd\nimport numpy as np",
      "metadata": {
        "trusted": true
      },
      "outputs": [],
      "execution_count": 30
    },
    {
      "cell_type": "markdown",
      "source": "---\n## 2. Load data",
      "metadata": {}
    },
    {
      "cell_type": "code",
      "source": "df = pd.read_csv('./data/clean_data_after_eda.csv')\nprint(\"df shape:\", df.shape)\ndf.head()",
      "metadata": {
        "trusted": true
      },
      "outputs": [
        {
          "name": "stdout",
          "text": "df shape: (14606, 44)\n",
          "output_type": "stream"
        },
        {
          "execution_count": 31,
          "output_type": "execute_result",
          "data": {
            "text/plain": "                                 id                     channel_sales  \\\n0  24011ae4ebbe3035111d65fa7c15bc57  foosdfpfkusacimwkcsosbicdxkicaua   \n1  d29c2c54acc38ff3c0614d0a653813dd                           MISSING   \n2  764c75f661154dac3a6c254cd082ea7d  foosdfpfkusacimwkcsosbicdxkicaua   \n3  bba03439a292a1e166f80264c16191cb  lmkebamcaaclubfxadlmueccxoimlema   \n4  149d57cf92fc41cf94415803a877cb4b                           MISSING   \n\n   cons_12m  cons_gas_12m  cons_last_month  date_activ    date_end  \\\n0         0         54946                0  2013-06-15  2016-06-15   \n1      4660             0                0  2009-08-21  2016-08-30   \n2       544             0                0  2010-04-16  2016-04-16   \n3      1584             0                0  2010-03-30  2016-03-30   \n4      4425             0              526  2010-01-13  2016-03-07   \n\n  date_modif_prod date_renewal  forecast_cons_12m  ...  \\\n0      2015-11-01   2015-06-23               0.00  ...   \n1      2009-08-21   2015-08-31             189.95  ...   \n2      2010-04-16   2015-04-17              47.96  ...   \n3      2010-03-30   2015-03-31             240.04  ...   \n4      2010-01-13   2015-03-09             445.75  ...   \n\n   var_6m_price_off_peak_var  var_6m_price_peak_var  \\\n0                   0.000131           4.100838e-05   \n1                   0.000003           1.217891e-03   \n2                   0.000004           9.450150e-08   \n3                   0.000003           0.000000e+00   \n4                   0.000011           2.896760e-06   \n\n   var_6m_price_mid_peak_var  var_6m_price_off_peak_fix  \\\n0               9.084737e-04                   2.086294   \n1               0.000000e+00                   0.009482   \n2               0.000000e+00                   0.000000   \n3               0.000000e+00                   0.000000   \n4               4.860000e-10                   0.000000   \n\n   var_6m_price_peak_fix  var_6m_price_mid_peak_fix var_6m_price_off_peak  \\\n0              99.530517                  44.235794              2.086425   \n1               0.000000                   0.000000              0.009485   \n2               0.000000                   0.000000              0.000004   \n3               0.000000                   0.000000              0.000003   \n4               0.000000                   0.000000              0.000011   \n\n   var_6m_price_peak  var_6m_price_mid_peak  churn  \n0       9.953056e+01           4.423670e+01      1  \n1       1.217891e-03           0.000000e+00      0  \n2       9.450150e-08           0.000000e+00      0  \n3       0.000000e+00           0.000000e+00      0  \n4       2.896760e-06           4.860000e-10      0  \n\n[5 rows x 44 columns]",
            "text/html": "<div>\n<style scoped>\n    .dataframe tbody tr th:only-of-type {\n        vertical-align: middle;\n    }\n\n    .dataframe tbody tr th {\n        vertical-align: top;\n    }\n\n    .dataframe thead th {\n        text-align: right;\n    }\n</style>\n<table border=\"1\" class=\"dataframe\">\n  <thead>\n    <tr style=\"text-align: right;\">\n      <th></th>\n      <th>id</th>\n      <th>channel_sales</th>\n      <th>cons_12m</th>\n      <th>cons_gas_12m</th>\n      <th>cons_last_month</th>\n      <th>date_activ</th>\n      <th>date_end</th>\n      <th>date_modif_prod</th>\n      <th>date_renewal</th>\n      <th>forecast_cons_12m</th>\n      <th>...</th>\n      <th>var_6m_price_off_peak_var</th>\n      <th>var_6m_price_peak_var</th>\n      <th>var_6m_price_mid_peak_var</th>\n      <th>var_6m_price_off_peak_fix</th>\n      <th>var_6m_price_peak_fix</th>\n      <th>var_6m_price_mid_peak_fix</th>\n      <th>var_6m_price_off_peak</th>\n      <th>var_6m_price_peak</th>\n      <th>var_6m_price_mid_peak</th>\n      <th>churn</th>\n    </tr>\n  </thead>\n  <tbody>\n    <tr>\n      <th>0</th>\n      <td>24011ae4ebbe3035111d65fa7c15bc57</td>\n      <td>foosdfpfkusacimwkcsosbicdxkicaua</td>\n      <td>0</td>\n      <td>54946</td>\n      <td>0</td>\n      <td>2013-06-15</td>\n      <td>2016-06-15</td>\n      <td>2015-11-01</td>\n      <td>2015-06-23</td>\n      <td>0.00</td>\n      <td>...</td>\n      <td>0.000131</td>\n      <td>4.100838e-05</td>\n      <td>9.084737e-04</td>\n      <td>2.086294</td>\n      <td>99.530517</td>\n      <td>44.235794</td>\n      <td>2.086425</td>\n      <td>9.953056e+01</td>\n      <td>4.423670e+01</td>\n      <td>1</td>\n    </tr>\n    <tr>\n      <th>1</th>\n      <td>d29c2c54acc38ff3c0614d0a653813dd</td>\n      <td>MISSING</td>\n      <td>4660</td>\n      <td>0</td>\n      <td>0</td>\n      <td>2009-08-21</td>\n      <td>2016-08-30</td>\n      <td>2009-08-21</td>\n      <td>2015-08-31</td>\n      <td>189.95</td>\n      <td>...</td>\n      <td>0.000003</td>\n      <td>1.217891e-03</td>\n      <td>0.000000e+00</td>\n      <td>0.009482</td>\n      <td>0.000000</td>\n      <td>0.000000</td>\n      <td>0.009485</td>\n      <td>1.217891e-03</td>\n      <td>0.000000e+00</td>\n      <td>0</td>\n    </tr>\n    <tr>\n      <th>2</th>\n      <td>764c75f661154dac3a6c254cd082ea7d</td>\n      <td>foosdfpfkusacimwkcsosbicdxkicaua</td>\n      <td>544</td>\n      <td>0</td>\n      <td>0</td>\n      <td>2010-04-16</td>\n      <td>2016-04-16</td>\n      <td>2010-04-16</td>\n      <td>2015-04-17</td>\n      <td>47.96</td>\n      <td>...</td>\n      <td>0.000004</td>\n      <td>9.450150e-08</td>\n      <td>0.000000e+00</td>\n      <td>0.000000</td>\n      <td>0.000000</td>\n      <td>0.000000</td>\n      <td>0.000004</td>\n      <td>9.450150e-08</td>\n      <td>0.000000e+00</td>\n      <td>0</td>\n    </tr>\n    <tr>\n      <th>3</th>\n      <td>bba03439a292a1e166f80264c16191cb</td>\n      <td>lmkebamcaaclubfxadlmueccxoimlema</td>\n      <td>1584</td>\n      <td>0</td>\n      <td>0</td>\n      <td>2010-03-30</td>\n      <td>2016-03-30</td>\n      <td>2010-03-30</td>\n      <td>2015-03-31</td>\n      <td>240.04</td>\n      <td>...</td>\n      <td>0.000003</td>\n      <td>0.000000e+00</td>\n      <td>0.000000e+00</td>\n      <td>0.000000</td>\n      <td>0.000000</td>\n      <td>0.000000</td>\n      <td>0.000003</td>\n      <td>0.000000e+00</td>\n      <td>0.000000e+00</td>\n      <td>0</td>\n    </tr>\n    <tr>\n      <th>4</th>\n      <td>149d57cf92fc41cf94415803a877cb4b</td>\n      <td>MISSING</td>\n      <td>4425</td>\n      <td>0</td>\n      <td>526</td>\n      <td>2010-01-13</td>\n      <td>2016-03-07</td>\n      <td>2010-01-13</td>\n      <td>2015-03-09</td>\n      <td>445.75</td>\n      <td>...</td>\n      <td>0.000011</td>\n      <td>2.896760e-06</td>\n      <td>4.860000e-10</td>\n      <td>0.000000</td>\n      <td>0.000000</td>\n      <td>0.000000</td>\n      <td>0.000011</td>\n      <td>2.896760e-06</td>\n      <td>4.860000e-10</td>\n      <td>0</td>\n    </tr>\n  </tbody>\n</table>\n<p>5 rows × 44 columns</p>\n</div>"
          },
          "metadata": {}
        }
      ],
      "execution_count": 31
    },
    {
      "cell_type": "code",
      "source": "df.info()",
      "metadata": {
        "trusted": true
      },
      "outputs": [
        {
          "name": "stdout",
          "text": "<class 'pandas.core.frame.DataFrame'>\nRangeIndex: 14606 entries, 0 to 14605\nData columns (total 44 columns):\n #   Column                          Non-Null Count  Dtype  \n---  ------                          --------------  -----  \n 0   id                              14606 non-null  object \n 1   channel_sales                   14606 non-null  object \n 2   cons_12m                        14606 non-null  int64  \n 3   cons_gas_12m                    14606 non-null  int64  \n 4   cons_last_month                 14606 non-null  int64  \n 5   date_activ                      14606 non-null  object \n 6   date_end                        14606 non-null  object \n 7   date_modif_prod                 14606 non-null  object \n 8   date_renewal                    14606 non-null  object \n 9   forecast_cons_12m               14606 non-null  float64\n 10  forecast_cons_year              14606 non-null  int64  \n 11  forecast_discount_energy        14606 non-null  float64\n 12  forecast_meter_rent_12m         14606 non-null  float64\n 13  forecast_price_energy_off_peak  14606 non-null  float64\n 14  forecast_price_energy_peak      14606 non-null  float64\n 15  forecast_price_pow_off_peak     14606 non-null  float64\n 16  has_gas                         14606 non-null  object \n 17  imp_cons                        14606 non-null  float64\n 18  margin_gross_pow_ele            14606 non-null  float64\n 19  margin_net_pow_ele              14606 non-null  float64\n 20  nb_prod_act                     14606 non-null  int64  \n 21  net_margin                      14606 non-null  float64\n 22  num_years_antig                 14606 non-null  int64  \n 23  origin_up                       14606 non-null  object \n 24  pow_max                         14606 non-null  float64\n 25  var_year_price_off_peak_var     14606 non-null  float64\n 26  var_year_price_peak_var         14606 non-null  float64\n 27  var_year_price_mid_peak_var     14606 non-null  float64\n 28  var_year_price_off_peak_fix     14606 non-null  float64\n 29  var_year_price_peak_fix         14606 non-null  float64\n 30  var_year_price_mid_peak_fix     14606 non-null  float64\n 31  var_year_price_off_peak         14606 non-null  float64\n 32  var_year_price_peak             14606 non-null  float64\n 33  var_year_price_mid_peak         14606 non-null  float64\n 34  var_6m_price_off_peak_var       14606 non-null  float64\n 35  var_6m_price_peak_var           14606 non-null  float64\n 36  var_6m_price_mid_peak_var       14606 non-null  float64\n 37  var_6m_price_off_peak_fix       14606 non-null  float64\n 38  var_6m_price_peak_fix           14606 non-null  float64\n 39  var_6m_price_mid_peak_fix       14606 non-null  float64\n 40  var_6m_price_off_peak           14606 non-null  float64\n 41  var_6m_price_peak               14606 non-null  float64\n 42  var_6m_price_mid_peak           14606 non-null  float64\n 43  churn                           14606 non-null  int64  \ndtypes: float64(29), int64(7), object(8)\nmemory usage: 4.5+ MB\n",
          "output_type": "stream"
        }
      ],
      "execution_count": 32
    },
    {
      "cell_type": "code",
      "source": "df = pd.read_csv('./data/clean_data_after_eda.csv')\ndf.head(3)",
      "metadata": {
        "trusted": true
      },
      "outputs": [
        {
          "execution_count": 33,
          "output_type": "execute_result",
          "data": {
            "text/plain": "                                 id                     channel_sales  \\\n0  24011ae4ebbe3035111d65fa7c15bc57  foosdfpfkusacimwkcsosbicdxkicaua   \n1  d29c2c54acc38ff3c0614d0a653813dd                           MISSING   \n2  764c75f661154dac3a6c254cd082ea7d  foosdfpfkusacimwkcsosbicdxkicaua   \n\n   cons_12m  cons_gas_12m  cons_last_month  date_activ    date_end  \\\n0         0         54946                0  2013-06-15  2016-06-15   \n1      4660             0                0  2009-08-21  2016-08-30   \n2       544             0                0  2010-04-16  2016-04-16   \n\n  date_modif_prod date_renewal  forecast_cons_12m  ...  \\\n0      2015-11-01   2015-06-23               0.00  ...   \n1      2009-08-21   2015-08-31             189.95  ...   \n2      2010-04-16   2015-04-17              47.96  ...   \n\n   var_6m_price_off_peak_var  var_6m_price_peak_var  \\\n0                   0.000131           4.100838e-05   \n1                   0.000003           1.217891e-03   \n2                   0.000004           9.450150e-08   \n\n   var_6m_price_mid_peak_var  var_6m_price_off_peak_fix  \\\n0                   0.000908                   2.086294   \n1                   0.000000                   0.009482   \n2                   0.000000                   0.000000   \n\n   var_6m_price_peak_fix  var_6m_price_mid_peak_fix var_6m_price_off_peak  \\\n0              99.530517                  44.235794              2.086425   \n1               0.000000                   0.000000              0.009485   \n2               0.000000                   0.000000              0.000004   \n\n   var_6m_price_peak  var_6m_price_mid_peak  churn  \n0       9.953056e+01              44.236702      1  \n1       1.217891e-03               0.000000      0  \n2       9.450150e-08               0.000000      0  \n\n[3 rows x 44 columns]",
            "text/html": "<div>\n<style scoped>\n    .dataframe tbody tr th:only-of-type {\n        vertical-align: middle;\n    }\n\n    .dataframe tbody tr th {\n        vertical-align: top;\n    }\n\n    .dataframe thead th {\n        text-align: right;\n    }\n</style>\n<table border=\"1\" class=\"dataframe\">\n  <thead>\n    <tr style=\"text-align: right;\">\n      <th></th>\n      <th>id</th>\n      <th>channel_sales</th>\n      <th>cons_12m</th>\n      <th>cons_gas_12m</th>\n      <th>cons_last_month</th>\n      <th>date_activ</th>\n      <th>date_end</th>\n      <th>date_modif_prod</th>\n      <th>date_renewal</th>\n      <th>forecast_cons_12m</th>\n      <th>...</th>\n      <th>var_6m_price_off_peak_var</th>\n      <th>var_6m_price_peak_var</th>\n      <th>var_6m_price_mid_peak_var</th>\n      <th>var_6m_price_off_peak_fix</th>\n      <th>var_6m_price_peak_fix</th>\n      <th>var_6m_price_mid_peak_fix</th>\n      <th>var_6m_price_off_peak</th>\n      <th>var_6m_price_peak</th>\n      <th>var_6m_price_mid_peak</th>\n      <th>churn</th>\n    </tr>\n  </thead>\n  <tbody>\n    <tr>\n      <th>0</th>\n      <td>24011ae4ebbe3035111d65fa7c15bc57</td>\n      <td>foosdfpfkusacimwkcsosbicdxkicaua</td>\n      <td>0</td>\n      <td>54946</td>\n      <td>0</td>\n      <td>2013-06-15</td>\n      <td>2016-06-15</td>\n      <td>2015-11-01</td>\n      <td>2015-06-23</td>\n      <td>0.00</td>\n      <td>...</td>\n      <td>0.000131</td>\n      <td>4.100838e-05</td>\n      <td>0.000908</td>\n      <td>2.086294</td>\n      <td>99.530517</td>\n      <td>44.235794</td>\n      <td>2.086425</td>\n      <td>9.953056e+01</td>\n      <td>44.236702</td>\n      <td>1</td>\n    </tr>\n    <tr>\n      <th>1</th>\n      <td>d29c2c54acc38ff3c0614d0a653813dd</td>\n      <td>MISSING</td>\n      <td>4660</td>\n      <td>0</td>\n      <td>0</td>\n      <td>2009-08-21</td>\n      <td>2016-08-30</td>\n      <td>2009-08-21</td>\n      <td>2015-08-31</td>\n      <td>189.95</td>\n      <td>...</td>\n      <td>0.000003</td>\n      <td>1.217891e-03</td>\n      <td>0.000000</td>\n      <td>0.009482</td>\n      <td>0.000000</td>\n      <td>0.000000</td>\n      <td>0.009485</td>\n      <td>1.217891e-03</td>\n      <td>0.000000</td>\n      <td>0</td>\n    </tr>\n    <tr>\n      <th>2</th>\n      <td>764c75f661154dac3a6c254cd082ea7d</td>\n      <td>foosdfpfkusacimwkcsosbicdxkicaua</td>\n      <td>544</td>\n      <td>0</td>\n      <td>0</td>\n      <td>2010-04-16</td>\n      <td>2016-04-16</td>\n      <td>2010-04-16</td>\n      <td>2015-04-17</td>\n      <td>47.96</td>\n      <td>...</td>\n      <td>0.000004</td>\n      <td>9.450150e-08</td>\n      <td>0.000000</td>\n      <td>0.000000</td>\n      <td>0.000000</td>\n      <td>0.000000</td>\n      <td>0.000004</td>\n      <td>9.450150e-08</td>\n      <td>0.000000</td>\n      <td>0</td>\n    </tr>\n  </tbody>\n</table>\n<p>3 rows × 44 columns</p>\n</div>"
          },
          "metadata": {}
        }
      ],
      "execution_count": 33
    },
    {
      "cell_type": "code",
      "source": "df = pd.read_csv('./data/clean_data_after_eda.csv')\ndf[\"date_activ\"] = pd.to_datetime(df[\"date_activ\"], format='%Y-%m-%d')\ndf[\"date_end\"] = pd.to_datetime(df[\"date_end\"], format='%Y-%m-%d')\ndf[\"date_modif_prod\"] = pd.to_datetime(df[\"date_modif_prod\"], format='%Y-%m-%d')\ndf[\"date_renewal\"] = pd.to_datetime(df[\"date_renewal\"], format='%Y-%m-%d')",
      "metadata": {
        "trusted": true
      },
      "outputs": [],
      "execution_count": 34
    },
    {
      "cell_type": "code",
      "source": "df.head(3)",
      "metadata": {
        "trusted": true
      },
      "outputs": [
        {
          "execution_count": 35,
          "output_type": "execute_result",
          "data": {
            "text/plain": "                                 id                     channel_sales  \\\n0  24011ae4ebbe3035111d65fa7c15bc57  foosdfpfkusacimwkcsosbicdxkicaua   \n1  d29c2c54acc38ff3c0614d0a653813dd                           MISSING   \n2  764c75f661154dac3a6c254cd082ea7d  foosdfpfkusacimwkcsosbicdxkicaua   \n\n   cons_12m  cons_gas_12m  cons_last_month date_activ   date_end  \\\n0         0         54946                0 2013-06-15 2016-06-15   \n1      4660             0                0 2009-08-21 2016-08-30   \n2       544             0                0 2010-04-16 2016-04-16   \n\n  date_modif_prod date_renewal  forecast_cons_12m  ...  \\\n0      2015-11-01   2015-06-23               0.00  ...   \n1      2009-08-21   2015-08-31             189.95  ...   \n2      2010-04-16   2015-04-17              47.96  ...   \n\n   var_6m_price_off_peak_var  var_6m_price_peak_var  \\\n0                   0.000131           4.100838e-05   \n1                   0.000003           1.217891e-03   \n2                   0.000004           9.450150e-08   \n\n   var_6m_price_mid_peak_var  var_6m_price_off_peak_fix  \\\n0                   0.000908                   2.086294   \n1                   0.000000                   0.009482   \n2                   0.000000                   0.000000   \n\n   var_6m_price_peak_fix  var_6m_price_mid_peak_fix var_6m_price_off_peak  \\\n0              99.530517                  44.235794              2.086425   \n1               0.000000                   0.000000              0.009485   \n2               0.000000                   0.000000              0.000004   \n\n   var_6m_price_peak  var_6m_price_mid_peak  churn  \n0       9.953056e+01              44.236702      1  \n1       1.217891e-03               0.000000      0  \n2       9.450150e-08               0.000000      0  \n\n[3 rows x 44 columns]",
            "text/html": "<div>\n<style scoped>\n    .dataframe tbody tr th:only-of-type {\n        vertical-align: middle;\n    }\n\n    .dataframe tbody tr th {\n        vertical-align: top;\n    }\n\n    .dataframe thead th {\n        text-align: right;\n    }\n</style>\n<table border=\"1\" class=\"dataframe\">\n  <thead>\n    <tr style=\"text-align: right;\">\n      <th></th>\n      <th>id</th>\n      <th>channel_sales</th>\n      <th>cons_12m</th>\n      <th>cons_gas_12m</th>\n      <th>cons_last_month</th>\n      <th>date_activ</th>\n      <th>date_end</th>\n      <th>date_modif_prod</th>\n      <th>date_renewal</th>\n      <th>forecast_cons_12m</th>\n      <th>...</th>\n      <th>var_6m_price_off_peak_var</th>\n      <th>var_6m_price_peak_var</th>\n      <th>var_6m_price_mid_peak_var</th>\n      <th>var_6m_price_off_peak_fix</th>\n      <th>var_6m_price_peak_fix</th>\n      <th>var_6m_price_mid_peak_fix</th>\n      <th>var_6m_price_off_peak</th>\n      <th>var_6m_price_peak</th>\n      <th>var_6m_price_mid_peak</th>\n      <th>churn</th>\n    </tr>\n  </thead>\n  <tbody>\n    <tr>\n      <th>0</th>\n      <td>24011ae4ebbe3035111d65fa7c15bc57</td>\n      <td>foosdfpfkusacimwkcsosbicdxkicaua</td>\n      <td>0</td>\n      <td>54946</td>\n      <td>0</td>\n      <td>2013-06-15</td>\n      <td>2016-06-15</td>\n      <td>2015-11-01</td>\n      <td>2015-06-23</td>\n      <td>0.00</td>\n      <td>...</td>\n      <td>0.000131</td>\n      <td>4.100838e-05</td>\n      <td>0.000908</td>\n      <td>2.086294</td>\n      <td>99.530517</td>\n      <td>44.235794</td>\n      <td>2.086425</td>\n      <td>9.953056e+01</td>\n      <td>44.236702</td>\n      <td>1</td>\n    </tr>\n    <tr>\n      <th>1</th>\n      <td>d29c2c54acc38ff3c0614d0a653813dd</td>\n      <td>MISSING</td>\n      <td>4660</td>\n      <td>0</td>\n      <td>0</td>\n      <td>2009-08-21</td>\n      <td>2016-08-30</td>\n      <td>2009-08-21</td>\n      <td>2015-08-31</td>\n      <td>189.95</td>\n      <td>...</td>\n      <td>0.000003</td>\n      <td>1.217891e-03</td>\n      <td>0.000000</td>\n      <td>0.009482</td>\n      <td>0.000000</td>\n      <td>0.000000</td>\n      <td>0.009485</td>\n      <td>1.217891e-03</td>\n      <td>0.000000</td>\n      <td>0</td>\n    </tr>\n    <tr>\n      <th>2</th>\n      <td>764c75f661154dac3a6c254cd082ea7d</td>\n      <td>foosdfpfkusacimwkcsosbicdxkicaua</td>\n      <td>544</td>\n      <td>0</td>\n      <td>0</td>\n      <td>2010-04-16</td>\n      <td>2016-04-16</td>\n      <td>2010-04-16</td>\n      <td>2015-04-17</td>\n      <td>47.96</td>\n      <td>...</td>\n      <td>0.000004</td>\n      <td>9.450150e-08</td>\n      <td>0.000000</td>\n      <td>0.000000</td>\n      <td>0.000000</td>\n      <td>0.000000</td>\n      <td>0.000004</td>\n      <td>9.450150e-08</td>\n      <td>0.000000</td>\n      <td>0</td>\n    </tr>\n  </tbody>\n</table>\n<p>3 rows × 44 columns</p>\n</div>"
          },
          "metadata": {}
        }
      ],
      "execution_count": 35
    },
    {
      "cell_type": "markdown",
      "source": "---\n\n## 3. Feature engineering\n\n### Difference between off-peak prices in December and preceding January\n\nBelow is the code created by your colleague to calculate the feature described above. Use this code to re-create this feature and then think about ways to build on this feature to create features with a higher predictive power.",
      "metadata": {}
    },
    {
      "cell_type": "code",
      "source": "price_df = pd.read_csv('./data/price_data.csv')\nprice_df[\"price_date\"] = pd.to_datetime(price_df[\"price_date\"], format='%Y-%m-%d')",
      "metadata": {
        "trusted": true
      },
      "outputs": [
        {
          "ename": "<class 'ValueError'>",
          "evalue": "time data \"1/1/2015\" at position 0 doesn't match format specified",
          "traceback": [
            "\u001b[0;31m---------------------------------------------------------------------------\u001b[0m",
            "\u001b[0;31mValueError\u001b[0m                                Traceback (most recent call last)",
            "Cell \u001b[0;32mIn[49], line 2\u001b[0m\n\u001b[1;32m      1\u001b[0m price_df \u001b[38;5;241m=\u001b[39m pd\u001b[38;5;241m.\u001b[39mread_csv(\u001b[38;5;124m'\u001b[39m\u001b[38;5;124m./data/price_data.csv\u001b[39m\u001b[38;5;124m'\u001b[39m)\n\u001b[0;32m----> 2\u001b[0m price_df[\u001b[38;5;124m\"\u001b[39m\u001b[38;5;124mprice_date\u001b[39m\u001b[38;5;124m\"\u001b[39m] \u001b[38;5;241m=\u001b[39m \u001b[43mpd\u001b[49m\u001b[38;5;241;43m.\u001b[39;49m\u001b[43mto_datetime\u001b[49m\u001b[43m(\u001b[49m\u001b[43mprice_df\u001b[49m\u001b[43m[\u001b[49m\u001b[38;5;124;43m\"\u001b[39;49m\u001b[38;5;124;43mprice_date\u001b[39;49m\u001b[38;5;124;43m\"\u001b[39;49m\u001b[43m]\u001b[49m\u001b[43m,\u001b[49m\u001b[43m \u001b[49m\u001b[38;5;28;43mformat\u001b[39;49m\u001b[38;5;241;43m=\u001b[39;49m\u001b[38;5;124;43m'\u001b[39;49m\u001b[38;5;124;43m%\u001b[39;49m\u001b[38;5;124;43mY-\u001b[39;49m\u001b[38;5;124;43m%\u001b[39;49m\u001b[38;5;124;43mm-\u001b[39;49m\u001b[38;5;132;43;01m%d\u001b[39;49;00m\u001b[38;5;124;43m'\u001b[39;49m\u001b[43m)\u001b[49m\n",
            "File \u001b[0;32m/lib/python3.11/site-packages/pandas/core/tools/datetimes.py:1064\u001b[0m, in \u001b[0;36mto_datetime\u001b[0;34m(arg, errors, dayfirst, yearfirst, utc, format, exact, unit, infer_datetime_format, origin, cache)\u001b[0m\n\u001b[1;32m   1062\u001b[0m             result \u001b[38;5;241m=\u001b[39m arg\u001b[38;5;241m.\u001b[39mtz_localize(tz)\n\u001b[1;32m   1063\u001b[0m \u001b[38;5;28;01melif\u001b[39;00m \u001b[38;5;28misinstance\u001b[39m(arg, ABCSeries):\n\u001b[0;32m-> 1064\u001b[0m     cache_array \u001b[38;5;241m=\u001b[39m \u001b[43m_maybe_cache\u001b[49m\u001b[43m(\u001b[49m\u001b[43marg\u001b[49m\u001b[43m,\u001b[49m\u001b[43m \u001b[49m\u001b[38;5;28;43mformat\u001b[39;49m\u001b[43m,\u001b[49m\u001b[43m \u001b[49m\u001b[43mcache\u001b[49m\u001b[43m,\u001b[49m\u001b[43m \u001b[49m\u001b[43mconvert_listlike\u001b[49m\u001b[43m)\u001b[49m\n\u001b[1;32m   1065\u001b[0m     \u001b[38;5;28;01mif\u001b[39;00m \u001b[38;5;129;01mnot\u001b[39;00m cache_array\u001b[38;5;241m.\u001b[39mempty:\n\u001b[1;32m   1066\u001b[0m         result \u001b[38;5;241m=\u001b[39m arg\u001b[38;5;241m.\u001b[39mmap(cache_array)\n",
            "File \u001b[0;32m/lib/python3.11/site-packages/pandas/core/tools/datetimes.py:229\u001b[0m, in \u001b[0;36m_maybe_cache\u001b[0;34m(arg, format, cache, convert_listlike)\u001b[0m\n\u001b[1;32m    227\u001b[0m unique_dates \u001b[38;5;241m=\u001b[39m unique(arg)\n\u001b[1;32m    228\u001b[0m \u001b[38;5;28;01mif\u001b[39;00m \u001b[38;5;28mlen\u001b[39m(unique_dates) \u001b[38;5;241m<\u001b[39m \u001b[38;5;28mlen\u001b[39m(arg):\n\u001b[0;32m--> 229\u001b[0m     cache_dates \u001b[38;5;241m=\u001b[39m \u001b[43mconvert_listlike\u001b[49m\u001b[43m(\u001b[49m\u001b[43munique_dates\u001b[49m\u001b[43m,\u001b[49m\u001b[43m \u001b[49m\u001b[38;5;28;43mformat\u001b[39;49m\u001b[43m)\u001b[49m\n\u001b[1;32m    230\u001b[0m     \u001b[38;5;66;03m# GH#45319\u001b[39;00m\n\u001b[1;32m    231\u001b[0m     \u001b[38;5;28;01mtry\u001b[39;00m:\n",
            "File \u001b[0;32m/lib/python3.11/site-packages/pandas/core/tools/datetimes.py:438\u001b[0m, in \u001b[0;36m_convert_listlike_datetimes\u001b[0;34m(arg, format, name, tz, unit, errors, infer_datetime_format, dayfirst, yearfirst, exact)\u001b[0m\n\u001b[1;32m    436\u001b[0m \u001b[38;5;28;01massert\u001b[39;00m \u001b[38;5;28mformat\u001b[39m \u001b[38;5;129;01mis\u001b[39;00m \u001b[38;5;28;01mNone\u001b[39;00m \u001b[38;5;129;01mor\u001b[39;00m infer_datetime_format\n\u001b[1;32m    437\u001b[0m utc \u001b[38;5;241m=\u001b[39m tz \u001b[38;5;241m==\u001b[39m \u001b[38;5;124m\"\u001b[39m\u001b[38;5;124mutc\u001b[39m\u001b[38;5;124m\"\u001b[39m\n\u001b[0;32m--> 438\u001b[0m result, tz_parsed \u001b[38;5;241m=\u001b[39m \u001b[43mobjects_to_datetime64ns\u001b[49m\u001b[43m(\u001b[49m\n\u001b[1;32m    439\u001b[0m \u001b[43m    \u001b[49m\u001b[43marg\u001b[49m\u001b[43m,\u001b[49m\n\u001b[1;32m    440\u001b[0m \u001b[43m    \u001b[49m\u001b[43mdayfirst\u001b[49m\u001b[38;5;241;43m=\u001b[39;49m\u001b[43mdayfirst\u001b[49m\u001b[43m,\u001b[49m\n\u001b[1;32m    441\u001b[0m \u001b[43m    \u001b[49m\u001b[43myearfirst\u001b[49m\u001b[38;5;241;43m=\u001b[39;49m\u001b[43myearfirst\u001b[49m\u001b[43m,\u001b[49m\n\u001b[1;32m    442\u001b[0m \u001b[43m    \u001b[49m\u001b[43mutc\u001b[49m\u001b[38;5;241;43m=\u001b[39;49m\u001b[43mutc\u001b[49m\u001b[43m,\u001b[49m\n\u001b[1;32m    443\u001b[0m \u001b[43m    \u001b[49m\u001b[43merrors\u001b[49m\u001b[38;5;241;43m=\u001b[39;49m\u001b[43merrors\u001b[49m\u001b[43m,\u001b[49m\n\u001b[1;32m    444\u001b[0m \u001b[43m    \u001b[49m\u001b[43mrequire_iso8601\u001b[49m\u001b[38;5;241;43m=\u001b[39;49m\u001b[43mrequire_iso8601\u001b[49m\u001b[43m,\u001b[49m\n\u001b[1;32m    445\u001b[0m \u001b[43m    \u001b[49m\u001b[43mallow_object\u001b[49m\u001b[38;5;241;43m=\u001b[39;49m\u001b[38;5;28;43;01mTrue\u001b[39;49;00m\u001b[43m,\u001b[49m\n\u001b[1;32m    446\u001b[0m \u001b[43m\u001b[49m\u001b[43m)\u001b[49m\n\u001b[1;32m    448\u001b[0m \u001b[38;5;28;01mif\u001b[39;00m tz_parsed \u001b[38;5;129;01mis\u001b[39;00m \u001b[38;5;129;01mnot\u001b[39;00m \u001b[38;5;28;01mNone\u001b[39;00m:\n\u001b[1;32m    449\u001b[0m     \u001b[38;5;66;03m# We can take a shortcut since the datetime64 numpy array\u001b[39;00m\n\u001b[1;32m    450\u001b[0m     \u001b[38;5;66;03m# is in UTC\u001b[39;00m\n\u001b[1;32m    451\u001b[0m     dta \u001b[38;5;241m=\u001b[39m DatetimeArray(result, dtype\u001b[38;5;241m=\u001b[39mtz_to_dtype(tz_parsed))\n",
            "File \u001b[0;32m/lib/python3.11/site-packages/pandas/core/arrays/datetimes.py:2177\u001b[0m, in \u001b[0;36mobjects_to_datetime64ns\u001b[0;34m(data, dayfirst, yearfirst, utc, errors, require_iso8601, allow_object, allow_mixed)\u001b[0m\n\u001b[1;32m   2175\u001b[0m order: Literal[\u001b[38;5;124m\"\u001b[39m\u001b[38;5;124mF\u001b[39m\u001b[38;5;124m\"\u001b[39m, \u001b[38;5;124m\"\u001b[39m\u001b[38;5;124mC\u001b[39m\u001b[38;5;124m\"\u001b[39m] \u001b[38;5;241m=\u001b[39m \u001b[38;5;124m\"\u001b[39m\u001b[38;5;124mF\u001b[39m\u001b[38;5;124m\"\u001b[39m \u001b[38;5;28;01mif\u001b[39;00m flags\u001b[38;5;241m.\u001b[39mf_contiguous \u001b[38;5;28;01melse\u001b[39;00m \u001b[38;5;124m\"\u001b[39m\u001b[38;5;124mC\u001b[39m\u001b[38;5;124m\"\u001b[39m\n\u001b[1;32m   2176\u001b[0m \u001b[38;5;28;01mtry\u001b[39;00m:\n\u001b[0;32m-> 2177\u001b[0m     result, tz_parsed \u001b[38;5;241m=\u001b[39m \u001b[43mtslib\u001b[49m\u001b[38;5;241;43m.\u001b[39;49m\u001b[43marray_to_datetime\u001b[49m\u001b[43m(\u001b[49m\n\u001b[1;32m   2178\u001b[0m \u001b[43m        \u001b[49m\u001b[43mdata\u001b[49m\u001b[38;5;241;43m.\u001b[39;49m\u001b[43mravel\u001b[49m\u001b[43m(\u001b[49m\u001b[38;5;124;43m\"\u001b[39;49m\u001b[38;5;124;43mK\u001b[39;49m\u001b[38;5;124;43m\"\u001b[39;49m\u001b[43m)\u001b[49m\u001b[43m,\u001b[49m\n\u001b[1;32m   2179\u001b[0m \u001b[43m        \u001b[49m\u001b[43merrors\u001b[49m\u001b[38;5;241;43m=\u001b[39;49m\u001b[43merrors\u001b[49m\u001b[43m,\u001b[49m\n\u001b[1;32m   2180\u001b[0m \u001b[43m        \u001b[49m\u001b[43mutc\u001b[49m\u001b[38;5;241;43m=\u001b[39;49m\u001b[43mutc\u001b[49m\u001b[43m,\u001b[49m\n\u001b[1;32m   2181\u001b[0m \u001b[43m        \u001b[49m\u001b[43mdayfirst\u001b[49m\u001b[38;5;241;43m=\u001b[39;49m\u001b[43mdayfirst\u001b[49m\u001b[43m,\u001b[49m\n\u001b[1;32m   2182\u001b[0m \u001b[43m        \u001b[49m\u001b[43myearfirst\u001b[49m\u001b[38;5;241;43m=\u001b[39;49m\u001b[43myearfirst\u001b[49m\u001b[43m,\u001b[49m\n\u001b[1;32m   2183\u001b[0m \u001b[43m        \u001b[49m\u001b[43mrequire_iso8601\u001b[49m\u001b[38;5;241;43m=\u001b[39;49m\u001b[43mrequire_iso8601\u001b[49m\u001b[43m,\u001b[49m\n\u001b[1;32m   2184\u001b[0m \u001b[43m        \u001b[49m\u001b[43mallow_mixed\u001b[49m\u001b[38;5;241;43m=\u001b[39;49m\u001b[43mallow_mixed\u001b[49m\u001b[43m,\u001b[49m\n\u001b[1;32m   2185\u001b[0m \u001b[43m    \u001b[49m\u001b[43m)\u001b[49m\n\u001b[1;32m   2186\u001b[0m     result \u001b[38;5;241m=\u001b[39m result\u001b[38;5;241m.\u001b[39mreshape(data\u001b[38;5;241m.\u001b[39mshape, order\u001b[38;5;241m=\u001b[39morder)\n\u001b[1;32m   2187\u001b[0m \u001b[38;5;28;01mexcept\u001b[39;00m \u001b[38;5;167;01mOverflowError\u001b[39;00m \u001b[38;5;28;01mas\u001b[39;00m err:\n\u001b[1;32m   2188\u001b[0m     \u001b[38;5;66;03m# Exception is raised when a part of date is greater than 32 bit signed int\u001b[39;00m\n",
            "File \u001b[0;32m/lib/python3.11/site-packages/pandas/_libs/tslib.pyx:427\u001b[0m, in \u001b[0;36mpandas._libs.tslib.array_to_datetime\u001b[0;34m()\u001b[0m\n",
            "File \u001b[0;32m/lib/python3.11/site-packages/pandas/_libs/tslib.pyx:599\u001b[0m, in \u001b[0;36mpandas._libs.tslib.array_to_datetime\u001b[0;34m()\u001b[0m\n",
            "\u001b[0;31mValueError\u001b[0m: time data \"1/1/2015\" at position 0 doesn't match format specified"
          ],
          "output_type": "error"
        }
      ],
      "execution_count": 49
    },
    {
      "cell_type": "markdown",
      "source": "# Complete Case Analysis for Missing Data Imputation",
      "metadata": {}
    },
    {
      "cell_type": "code",
      "source": "df = pd.read_csv('./data/clean_data_after_eda.csv')\n# make a copy of df dataset\ndata1 = df.copy()\ndata1.isnull().mean()",
      "metadata": {
        "trusted": true
      },
      "outputs": [
        {
          "execution_count": 38,
          "output_type": "execute_result",
          "data": {
            "text/plain": "id                                0.0\nchannel_sales                     0.0\ncons_12m                          0.0\ncons_gas_12m                      0.0\ncons_last_month                   0.0\ndate_activ                        0.0\ndate_end                          0.0\ndate_modif_prod                   0.0\ndate_renewal                      0.0\nforecast_cons_12m                 0.0\nforecast_cons_year                0.0\nforecast_discount_energy          0.0\nforecast_meter_rent_12m           0.0\nforecast_price_energy_off_peak    0.0\nforecast_price_energy_peak        0.0\nforecast_price_pow_off_peak       0.0\nhas_gas                           0.0\nimp_cons                          0.0\nmargin_gross_pow_ele              0.0\nmargin_net_pow_ele                0.0\nnb_prod_act                       0.0\nnet_margin                        0.0\nnum_years_antig                   0.0\norigin_up                         0.0\npow_max                           0.0\nvar_year_price_off_peak_var       0.0\nvar_year_price_peak_var           0.0\nvar_year_price_mid_peak_var       0.0\nvar_year_price_off_peak_fix       0.0\nvar_year_price_peak_fix           0.0\nvar_year_price_mid_peak_fix       0.0\nvar_year_price_off_peak           0.0\nvar_year_price_peak               0.0\nvar_year_price_mid_peak           0.0\nvar_6m_price_off_peak_var         0.0\nvar_6m_price_peak_var             0.0\nvar_6m_price_mid_peak_var         0.0\nvar_6m_price_off_peak_fix         0.0\nvar_6m_price_peak_fix             0.0\nvar_6m_price_mid_peak_fix         0.0\nvar_6m_price_off_peak             0.0\nvar_6m_price_peak                 0.0\nvar_6m_price_mid_peak             0.0\nchurn                             0.0\ndtype: float64"
          },
          "metadata": {}
        }
      ],
      "execution_count": 38
    },
    {
      "cell_type": "code",
      "source": "# check how many observations we would drop\nprint('total passengers with values in all variables: ', data1.dropna().shape[0])\nprint('total passengers in the df: ', data1.shape[0])\nprint('percentage of data without missing values: ', data1.dropna().shape[0]/ float(data1.shape[0]))",
      "metadata": {
        "trusted": true
      },
      "outputs": [
        {
          "name": "stdout",
          "text": "total passengers with values in all variables:  14606\ntotal passengers in the df:  14606\npercentage of data without missing values:  1.0\n",
          "output_type": "stream"
        }
      ],
      "execution_count": 41
    },
    {
      "cell_type": "code",
      "source": "# Group off-peak prices by companies and month\nmonthly_price_by_id = price_df.groupby(['id', 'price_date']).agg({'price_off_peak_var': 'mean', 'price_off_peak_fix': 'mean'}).reset_index()\n\n# Get january and december prices\njan_prices = monthly_price_by_id.groupby('id').first().reset_index()\ndec_prices = monthly_price_by_id.groupby('id').last().reset_index()\n\n# Calculate the difference\ndiff = pd.merge(dec_prices.rename(columns={'price_off_peak_var': 'dec_1', 'price_off_peak_fix': 'dec_2'}), jan_prices.drop(columns='price_date'), on='id')\ndiff['offpeak_diff_dec_january_energy'] = diff['dec_1'] - diff['price_off_peak_var']\ndiff['offpeak_diff_dec_january_power'] = diff['dec_2'] - diff['price_off_peak_fix']\ndiff = diff[['id', 'offpeak_diff_dec_january_energy','offpeak_diff_dec_january_power']]\ndiff.head()",
      "metadata": {
        "trusted": true
      },
      "outputs": [
        {
          "execution_count": 52,
          "output_type": "execute_result",
          "data": {
            "text/plain": "                                 id  offpeak_diff_dec_january_energy  \\\n0  0002203ffbb812588b632b9e628cc38d                        -0.006192   \n1  0004351ebdd665e6ee664792efc4fd13                        -0.004104   \n2  0010bcc39e42b3c2131ed2ce55246e3c                         0.050443   \n3  0010ee3855fdea87602a5b7aba8e42de                        -0.010018   \n4  00114d74e963e47177db89bc70108537                        -0.003994   \n\n   offpeak_diff_dec_january_power  \n0                        0.162916  \n1                        0.177779  \n2                        1.500000  \n3                        0.162916  \n4                       -0.000001  ",
            "text/html": "<div>\n<style scoped>\n    .dataframe tbody tr th:only-of-type {\n        vertical-align: middle;\n    }\n\n    .dataframe tbody tr th {\n        vertical-align: top;\n    }\n\n    .dataframe thead th {\n        text-align: right;\n    }\n</style>\n<table border=\"1\" class=\"dataframe\">\n  <thead>\n    <tr style=\"text-align: right;\">\n      <th></th>\n      <th>id</th>\n      <th>offpeak_diff_dec_january_energy</th>\n      <th>offpeak_diff_dec_january_power</th>\n    </tr>\n  </thead>\n  <tbody>\n    <tr>\n      <th>0</th>\n      <td>0002203ffbb812588b632b9e628cc38d</td>\n      <td>-0.006192</td>\n      <td>0.162916</td>\n    </tr>\n    <tr>\n      <th>1</th>\n      <td>0004351ebdd665e6ee664792efc4fd13</td>\n      <td>-0.004104</td>\n      <td>0.177779</td>\n    </tr>\n    <tr>\n      <th>2</th>\n      <td>0010bcc39e42b3c2131ed2ce55246e3c</td>\n      <td>0.050443</td>\n      <td>1.500000</td>\n    </tr>\n    <tr>\n      <th>3</th>\n      <td>0010ee3855fdea87602a5b7aba8e42de</td>\n      <td>-0.010018</td>\n      <td>0.162916</td>\n    </tr>\n    <tr>\n      <th>4</th>\n      <td>00114d74e963e47177db89bc70108537</td>\n      <td>-0.003994</td>\n      <td>-0.000001</td>\n    </tr>\n  </tbody>\n</table>\n</div>"
          },
          "metadata": {}
        }
      ],
      "execution_count": 52
    },
    {
      "cell_type": "markdown",
      "source": "Now it is time to get creative and to conduct some of your own feature engineering! Have fun with it, explore different ideas and try to create as many as yo can!",
      "metadata": {}
    },
    {
      "cell_type": "markdown",
      "source": "# Categorical encoding in Feature Engineering",
      "metadata": {}
    },
    {
      "cell_type": "markdown",
      "source": "# One-Hot encoding (OHE)",
      "metadata": {}
    },
    {
      "cell_type": "code",
      "source": "# Assuming 'id' column is categorical and needs One-Hot encoding\none_hot_encoded_diff = pd.get_dummies(diff, columns=['id'])\n# Now 'id' column will be One-Hot encoded, and you can concatenate it with the original DataFrame if needed.\npd.concat([df['id'], pd.get_dummies(df['id'])], axis=1).head()",
      "metadata": {
        "trusted": true
      },
      "outputs": [
        {
          "execution_count": 58,
          "output_type": "execute_result",
          "data": {
            "text/plain": "                                 id  0002203ffbb812588b632b9e628cc38d  \\\n0  24011ae4ebbe3035111d65fa7c15bc57                                 0   \n1  d29c2c54acc38ff3c0614d0a653813dd                                 0   \n2  764c75f661154dac3a6c254cd082ea7d                                 0   \n3  bba03439a292a1e166f80264c16191cb                                 0   \n4  149d57cf92fc41cf94415803a877cb4b                                 0   \n\n   0004351ebdd665e6ee664792efc4fd13  0010bcc39e42b3c2131ed2ce55246e3c  \\\n0                                 0                                 0   \n1                                 0                                 0   \n2                                 0                                 0   \n3                                 0                                 0   \n4                                 0                                 0   \n\n   00114d74e963e47177db89bc70108537  0013f326a839a2f6ad87a1859952d227  \\\n0                                 0                                 0   \n1                                 0                                 0   \n2                                 0                                 0   \n3                                 0                                 0   \n4                                 0                                 0   \n\n   00184e957277eeef733a7b563fdabd06  001987ed9dbdab4efa274a9c7233e1f4  \\\n0                                 0                                 0   \n1                                 0                                 0   \n2                                 0                                 0   \n3                                 0                                 0   \n4                                 0                                 0   \n\n   0019baf3ed1242cd99b3cb592030446f  001cb880d847a0b63b404a48e50aec17  ...  \\\n0                                 0                                 0  ...   \n1                                 0                                 0  ...   \n2                                 0                                 0  ...   \n3                                 0                                 0  ...   \n4                                 0                                 0  ...   \n\n   ffd619330ca153638aca1f0c03ddaea2  ffd81a648a4394d296acca247eb81019  \\\n0                                 0                                 0   \n1                                 0                                 0   \n2                                 0                                 0   \n3                                 0                                 0   \n4                                 0                                 0   \n\n   ffe036e88380923f0b016b8a8adc75b3  ffe255be491c6576c37e257608ab4c02  \\\n0                                 0                                 0   \n1                                 0                                 0   \n2                                 0                                 0   \n3                                 0                                 0   \n4                                 0                                 0   \n\n   ffebf3f48e6728e2f688073b77ad8703  ffebf6a979dd0b17a41076df1057e733  \\\n0                                 0                                 0   \n1                                 0                                 0   \n2                                 0                                 0   \n3                                 0                                 0   \n4                                 0                                 0   \n\n   fffac626da707b1b5ab11e8431a4d0a2  fffc0cacd305dd51f316424bbb08d1bd  \\\n0                                 0                                 0   \n1                                 0                                 0   \n2                                 0                                 0   \n3                                 0                                 0   \n4                                 0                                 0   \n\n   fffe4f5646aa39c7f97f95ae2679ce64  ffff7fa066f1fb305ae285bb03bf325a  \n0                                 0                                 0  \n1                                 0                                 0  \n2                                 0                                 0  \n3                                 0                                 0  \n4                                 0                                 0  \n\n[5 rows x 14607 columns]",
            "text/html": "<div>\n<style scoped>\n    .dataframe tbody tr th:only-of-type {\n        vertical-align: middle;\n    }\n\n    .dataframe tbody tr th {\n        vertical-align: top;\n    }\n\n    .dataframe thead th {\n        text-align: right;\n    }\n</style>\n<table border=\"1\" class=\"dataframe\">\n  <thead>\n    <tr style=\"text-align: right;\">\n      <th></th>\n      <th>id</th>\n      <th>0002203ffbb812588b632b9e628cc38d</th>\n      <th>0004351ebdd665e6ee664792efc4fd13</th>\n      <th>0010bcc39e42b3c2131ed2ce55246e3c</th>\n      <th>00114d74e963e47177db89bc70108537</th>\n      <th>0013f326a839a2f6ad87a1859952d227</th>\n      <th>00184e957277eeef733a7b563fdabd06</th>\n      <th>001987ed9dbdab4efa274a9c7233e1f4</th>\n      <th>0019baf3ed1242cd99b3cb592030446f</th>\n      <th>001cb880d847a0b63b404a48e50aec17</th>\n      <th>...</th>\n      <th>ffd619330ca153638aca1f0c03ddaea2</th>\n      <th>ffd81a648a4394d296acca247eb81019</th>\n      <th>ffe036e88380923f0b016b8a8adc75b3</th>\n      <th>ffe255be491c6576c37e257608ab4c02</th>\n      <th>ffebf3f48e6728e2f688073b77ad8703</th>\n      <th>ffebf6a979dd0b17a41076df1057e733</th>\n      <th>fffac626da707b1b5ab11e8431a4d0a2</th>\n      <th>fffc0cacd305dd51f316424bbb08d1bd</th>\n      <th>fffe4f5646aa39c7f97f95ae2679ce64</th>\n      <th>ffff7fa066f1fb305ae285bb03bf325a</th>\n    </tr>\n  </thead>\n  <tbody>\n    <tr>\n      <th>0</th>\n      <td>24011ae4ebbe3035111d65fa7c15bc57</td>\n      <td>0</td>\n      <td>0</td>\n      <td>0</td>\n      <td>0</td>\n      <td>0</td>\n      <td>0</td>\n      <td>0</td>\n      <td>0</td>\n      <td>0</td>\n      <td>...</td>\n      <td>0</td>\n      <td>0</td>\n      <td>0</td>\n      <td>0</td>\n      <td>0</td>\n      <td>0</td>\n      <td>0</td>\n      <td>0</td>\n      <td>0</td>\n      <td>0</td>\n    </tr>\n    <tr>\n      <th>1</th>\n      <td>d29c2c54acc38ff3c0614d0a653813dd</td>\n      <td>0</td>\n      <td>0</td>\n      <td>0</td>\n      <td>0</td>\n      <td>0</td>\n      <td>0</td>\n      <td>0</td>\n      <td>0</td>\n      <td>0</td>\n      <td>...</td>\n      <td>0</td>\n      <td>0</td>\n      <td>0</td>\n      <td>0</td>\n      <td>0</td>\n      <td>0</td>\n      <td>0</td>\n      <td>0</td>\n      <td>0</td>\n      <td>0</td>\n    </tr>\n    <tr>\n      <th>2</th>\n      <td>764c75f661154dac3a6c254cd082ea7d</td>\n      <td>0</td>\n      <td>0</td>\n      <td>0</td>\n      <td>0</td>\n      <td>0</td>\n      <td>0</td>\n      <td>0</td>\n      <td>0</td>\n      <td>0</td>\n      <td>...</td>\n      <td>0</td>\n      <td>0</td>\n      <td>0</td>\n      <td>0</td>\n      <td>0</td>\n      <td>0</td>\n      <td>0</td>\n      <td>0</td>\n      <td>0</td>\n      <td>0</td>\n    </tr>\n    <tr>\n      <th>3</th>\n      <td>bba03439a292a1e166f80264c16191cb</td>\n      <td>0</td>\n      <td>0</td>\n      <td>0</td>\n      <td>0</td>\n      <td>0</td>\n      <td>0</td>\n      <td>0</td>\n      <td>0</td>\n      <td>0</td>\n      <td>...</td>\n      <td>0</td>\n      <td>0</td>\n      <td>0</td>\n      <td>0</td>\n      <td>0</td>\n      <td>0</td>\n      <td>0</td>\n      <td>0</td>\n      <td>0</td>\n      <td>0</td>\n    </tr>\n    <tr>\n      <th>4</th>\n      <td>149d57cf92fc41cf94415803a877cb4b</td>\n      <td>0</td>\n      <td>0</td>\n      <td>0</td>\n      <td>0</td>\n      <td>0</td>\n      <td>0</td>\n      <td>0</td>\n      <td>0</td>\n      <td>0</td>\n      <td>...</td>\n      <td>0</td>\n      <td>0</td>\n      <td>0</td>\n      <td>0</td>\n      <td>0</td>\n      <td>0</td>\n      <td>0</td>\n      <td>0</td>\n      <td>0</td>\n      <td>0</td>\n    </tr>\n  </tbody>\n</table>\n<p>5 rows × 14607 columns</p>\n</div>"
          },
          "metadata": {}
        }
      ],
      "execution_count": 58
    },
    {
      "cell_type": "code",
      "source": "",
      "metadata": {
        "trusted": true
      },
      "outputs": [],
      "execution_count": null
    }
  ]
}